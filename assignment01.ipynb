{
 "cells": [
  {
   "cell_type": "code",
   "execution_count": 1,
   "metadata": {},
   "outputs": [
    {
     "name": "stdout",
     "output_type": "stream",
     "text": [
      "Requirement already satisfied: nltk in /usr/local/python/3.12.1/lib/python3.12/site-packages (3.9.1)\n",
      "Requirement already satisfied: click in /usr/local/python/3.12.1/lib/python3.12/site-packages (from nltk) (8.1.7)\n",
      "Requirement already satisfied: joblib in /home/codespace/.local/lib/python3.12/site-packages (from nltk) (1.4.2)\n",
      "Requirement already satisfied: regex>=2021.8.3 in /usr/local/python/3.12.1/lib/python3.12/site-packages (from nltk) (2024.7.24)\n",
      "Requirement already satisfied: tqdm in /usr/local/python/3.12.1/lib/python3.12/site-packages (from nltk) (4.66.5)\n",
      "Requirement already satisfied: openpyxl in /usr/local/python/3.12.1/lib/python3.12/site-packages (3.1.5)\n",
      "Requirement already satisfied: et-xmlfile in /usr/local/python/3.12.1/lib/python3.12/site-packages (from openpyxl) (1.1.0)\n"
     ]
    }
   ],
   "source": [
    "!pip install nltk\n",
    "!pip install openpyxl"
   ]
  },
  {
   "cell_type": "code",
   "execution_count": 2,
   "metadata": {},
   "outputs": [
    {
     "name": "stderr",
     "output_type": "stream",
     "text": [
      "[nltk_data] Downloading package punkt to /home/codespace/nltk_data...\n",
      "[nltk_data]   Package punkt is already up-to-date!\n"
     ]
    },
    {
     "data": {
      "text/plain": [
       "True"
      ]
     },
     "execution_count": 2,
     "metadata": {},
     "output_type": "execute_result"
    }
   ],
   "source": [
    "import pandas as pd\n",
    "import re\n",
    "import nltk\n",
    "from nltk.util import ngrams\n",
    "from collections import Counter\n",
    "nltk.download('punkt')"
   ]
  },
  {
   "cell_type": "code",
   "execution_count": 3,
   "metadata": {},
   "outputs": [],
   "source": [
    "df=pd.read_excel('/workspaces/BMIG60303-assignments/All_Articles_Excel_Dec2019July2020.xlsx')"
   ]
  },
  {
   "cell_type": "code",
   "execution_count": 4,
   "metadata": {},
   "outputs": [
    {
     "data": {
      "text/html": [
       "<div>\n",
       "<style scoped>\n",
       "    .dataframe tbody tr th:only-of-type {\n",
       "        vertical-align: middle;\n",
       "    }\n",
       "\n",
       "    .dataframe tbody tr th {\n",
       "        vertical-align: top;\n",
       "    }\n",
       "\n",
       "    .dataframe thead th {\n",
       "        text-align: right;\n",
       "    }\n",
       "</style>\n",
       "<table border=\"1\" class=\"dataframe\">\n",
       "  <thead>\n",
       "    <tr style=\"text-align: right;\">\n",
       "      <th></th>\n",
       "      <th>Date Added</th>\n",
       "      <th>Author</th>\n",
       "      <th>Title</th>\n",
       "      <th>Abstract</th>\n",
       "      <th>Year</th>\n",
       "      <th>Journal/Publisher</th>\n",
       "      <th>Volume</th>\n",
       "      <th>Issue</th>\n",
       "      <th>Pages</th>\n",
       "      <th>Accession Number</th>\n",
       "      <th>...</th>\n",
       "      <th>Unnamed: 84</th>\n",
       "      <th>Unnamed: 85</th>\n",
       "      <th>Unnamed: 86</th>\n",
       "      <th>Unnamed: 87</th>\n",
       "      <th>Unnamed: 88</th>\n",
       "      <th>Unnamed: 89</th>\n",
       "      <th>Unnamed: 90</th>\n",
       "      <th>Unnamed: 91</th>\n",
       "      <th>Unnamed: 92</th>\n",
       "      <th>Unnamed: 93</th>\n",
       "    </tr>\n",
       "  </thead>\n",
       "  <tbody>\n",
       "    <tr>\n",
       "      <th>0</th>\n",
       "      <td>2020-07-31</td>\n",
       "      <td>Zwerling, A</td>\n",
       "      <td>Understanding spending trends for tuberculosis</td>\n",
       "      <td>Total out-of-pocket spending decreased over th...</td>\n",
       "      <td>2020</td>\n",
       "      <td>Lancet Infectious Diseases</td>\n",
       "      <td>20</td>\n",
       "      <td>8</td>\n",
       "      <td>879-880</td>\n",
       "      <td>2428388309</td>\n",
       "      <td>...</td>\n",
       "      <td>NaN</td>\n",
       "      <td>NaN</td>\n",
       "      <td>NaN</td>\n",
       "      <td>NaN</td>\n",
       "      <td>NaN</td>\n",
       "      <td>NaN</td>\n",
       "      <td>NaN</td>\n",
       "      <td>NaN</td>\n",
       "      <td>NaN</td>\n",
       "      <td>NaN</td>\n",
       "    </tr>\n",
       "    <tr>\n",
       "      <th>1</th>\n",
       "      <td>2020-07-31</td>\n",
       "      <td>Zucoloto, GM, Pedro; Porto, Patricia</td>\n",
       "      <td>A propriedade industrial pode limitar o combat...</td>\n",
       "      <td>Esta nota técnica apresenta alguns dos pontos ...</td>\n",
       "      <td>2020</td>\n",
       "      <td>NaN</td>\n",
       "      <td>NaN</td>\n",
       "      <td>Issue</td>\n",
       "      <td>NaN</td>\n",
       "      <td>NaN</td>\n",
       "      <td>...</td>\n",
       "      <td>NaN</td>\n",
       "      <td>NaN</td>\n",
       "      <td>NaN</td>\n",
       "      <td>NaN</td>\n",
       "      <td>NaN</td>\n",
       "      <td>NaN</td>\n",
       "      <td>NaN</td>\n",
       "      <td>NaN</td>\n",
       "      <td>NaN</td>\n",
       "      <td>NaN</td>\n",
       "    </tr>\n",
       "    <tr>\n",
       "      <th>2</th>\n",
       "      <td>2020-07-31</td>\n",
       "      <td>Zimmer, MAZ, Anne K.; Weißer, Christian W.; Vo...</td>\n",
       "      <td>Hypernatremia—A Manifestation of COVID-19: A C...</td>\n",
       "      <td>We report for the first time therapy-resistant...</td>\n",
       "      <td>2020</td>\n",
       "      <td>A&amp;A Practice</td>\n",
       "      <td>NaN</td>\n",
       "      <td>NaN</td>\n",
       "      <td>NaN</td>\n",
       "      <td>NaN</td>\n",
       "      <td>...</td>\n",
       "      <td>NaN</td>\n",
       "      <td>NaN</td>\n",
       "      <td>NaN</td>\n",
       "      <td>NaN</td>\n",
       "      <td>NaN</td>\n",
       "      <td>NaN</td>\n",
       "      <td>NaN</td>\n",
       "      <td>NaN</td>\n",
       "      <td>NaN</td>\n",
       "      <td>NaN</td>\n",
       "    </tr>\n",
       "    <tr>\n",
       "      <th>3</th>\n",
       "      <td>2020-07-31</td>\n",
       "      <td>Zignale, M</td>\n",
       "      <td>The experienced space between mobility and Cov...</td>\n",
       "      <td>If it is true that lived space represents our ...</td>\n",
       "      <td>2020</td>\n",
       "      <td>Documenti Geografici</td>\n",
       "      <td>NaN</td>\n",
       "      <td>NaN</td>\n",
       "      <td>NaN</td>\n",
       "      <td>NaN</td>\n",
       "      <td>...</td>\n",
       "      <td>NaN</td>\n",
       "      <td>NaN</td>\n",
       "      <td>NaN</td>\n",
       "      <td>NaN</td>\n",
       "      <td>NaN</td>\n",
       "      <td>NaN</td>\n",
       "      <td>NaN</td>\n",
       "      <td>NaN</td>\n",
       "      <td>NaN</td>\n",
       "      <td>NaN</td>\n",
       "    </tr>\n",
       "    <tr>\n",
       "      <th>4</th>\n",
       "      <td>2020-07-31</td>\n",
       "      <td>Zhu, XC, Bodong; Avadhanam, Rukmini Manasa; Sh...</td>\n",
       "      <td>Reading and connecting: using social annotatio...</td>\n",
       "      <td>Purpose - The COM-19 pandemic has forced many ...</td>\n",
       "      <td>2020</td>\n",
       "      <td>Information and Learning Sciences</td>\n",
       "      <td>NaN</td>\n",
       "      <td>NaN</td>\n",
       "      <td>NaN</td>\n",
       "      <td>NaN</td>\n",
       "      <td>...</td>\n",
       "      <td>NaN</td>\n",
       "      <td>NaN</td>\n",
       "      <td>NaN</td>\n",
       "      <td>NaN</td>\n",
       "      <td>NaN</td>\n",
       "      <td>NaN</td>\n",
       "      <td>NaN</td>\n",
       "      <td>NaN</td>\n",
       "      <td>NaN</td>\n",
       "      <td>NaN</td>\n",
       "    </tr>\n",
       "  </tbody>\n",
       "</table>\n",
       "<p>5 rows × 94 columns</p>\n",
       "</div>"
      ],
      "text/plain": [
       "  Date Added                                             Author  \\\n",
       "0 2020-07-31                                        Zwerling, A   \n",
       "1 2020-07-31               Zucoloto, GM, Pedro; Porto, Patricia   \n",
       "2 2020-07-31  Zimmer, MAZ, Anne K.; Weißer, Christian W.; Vo...   \n",
       "3 2020-07-31                                         Zignale, M   \n",
       "4 2020-07-31  Zhu, XC, Bodong; Avadhanam, Rukmini Manasa; Sh...   \n",
       "\n",
       "                                               Title  \\\n",
       "0     Understanding spending trends for tuberculosis   \n",
       "1  A propriedade industrial pode limitar o combat...   \n",
       "2  Hypernatremia—A Manifestation of COVID-19: A C...   \n",
       "3  The experienced space between mobility and Cov...   \n",
       "4  Reading and connecting: using social annotatio...   \n",
       "\n",
       "                                            Abstract  Year  \\\n",
       "0  Total out-of-pocket spending decreased over th...  2020   \n",
       "1  Esta nota técnica apresenta alguns dos pontos ...  2020   \n",
       "2  We report for the first time therapy-resistant...  2020   \n",
       "3  If it is true that lived space represents our ...  2020   \n",
       "4  Purpose - The COM-19 pandemic has forced many ...  2020   \n",
       "\n",
       "                   Journal/Publisher Volume  Issue    Pages Accession Number  \\\n",
       "0         Lancet Infectious Diseases     20      8  879-880       2428388309   \n",
       "1                                NaN    NaN  Issue      NaN              NaN   \n",
       "2                       A&A Practice    NaN    NaN      NaN              NaN   \n",
       "3               Documenti Geografici    NaN    NaN      NaN              NaN   \n",
       "4  Information and Learning Sciences    NaN    NaN      NaN              NaN   \n",
       "\n",
       "   ... Unnamed: 84 Unnamed: 85 Unnamed: 86 Unnamed: 87 Unnamed: 88  \\\n",
       "0  ...         NaN         NaN         NaN         NaN         NaN   \n",
       "1  ...         NaN         NaN         NaN         NaN         NaN   \n",
       "2  ...         NaN         NaN         NaN         NaN         NaN   \n",
       "3  ...         NaN         NaN         NaN         NaN         NaN   \n",
       "4  ...         NaN         NaN         NaN         NaN         NaN   \n",
       "\n",
       "  Unnamed: 89  Unnamed: 90 Unnamed: 91  Unnamed: 92 Unnamed: 93  \n",
       "0         NaN          NaN         NaN          NaN         NaN  \n",
       "1         NaN          NaN         NaN          NaN         NaN  \n",
       "2         NaN          NaN         NaN          NaN         NaN  \n",
       "3         NaN          NaN         NaN          NaN         NaN  \n",
       "4         NaN          NaN         NaN          NaN         NaN  \n",
       "\n",
       "[5 rows x 94 columns]"
      ]
     },
     "execution_count": 4,
     "metadata": {},
     "output_type": "execute_result"
    }
   ],
   "source": [
    "df.head()"
   ]
  },
  {
   "cell_type": "code",
   "execution_count": 5,
   "metadata": {},
   "outputs": [
    {
     "data": {
      "text/plain": [
       "Index(['Date Added', 'Author', 'Title', 'Abstract', 'Year',\n",
       "       'Journal/Publisher', 'Volume', 'Issue', 'Pages', 'Accession Number',\n",
       "       'DOI', 'URL', 'Name of Database', 'Database Provider', 'Language',\n",
       "       'Keywords', 'Unnamed: 16', 'Unnamed: 17', 'Unnamed: 18', 'Unnamed: 19',\n",
       "       'Unnamed: 20', 'Unnamed: 21', 'Unnamed: 22', 'Unnamed: 23',\n",
       "       'Unnamed: 24', 'Unnamed: 25', 'Unnamed: 26', 'Unnamed: 27',\n",
       "       'Unnamed: 28', 'Unnamed: 29', 'Unnamed: 30', 'Unnamed: 31',\n",
       "       'Unnamed: 32', 'Unnamed: 33', 'Unnamed: 34', 'Unnamed: 35',\n",
       "       'Unnamed: 36', 'Unnamed: 37', 'Unnamed: 38', 'Unnamed: 39',\n",
       "       'Unnamed: 40', 'Unnamed: 41', 'Unnamed: 42', 'Unnamed: 43',\n",
       "       'Unnamed: 44', 'Unnamed: 45', 'Unnamed: 46', 'Unnamed: 47',\n",
       "       'Unnamed: 48', 'Unnamed: 49', 'Unnamed: 50', 'Unnamed: 51',\n",
       "       'Unnamed: 52', 'Unnamed: 53', 'Unnamed: 54', 'Unnamed: 55',\n",
       "       'Unnamed: 56', 'Unnamed: 57', 'Unnamed: 58', 'Unnamed: 59',\n",
       "       'Unnamed: 60', 'Unnamed: 61', 'Unnamed: 62', 'Unnamed: 63',\n",
       "       'Unnamed: 64', 'Unnamed: 65', 'Unnamed: 66', 'Unnamed: 67',\n",
       "       'Unnamed: 68', 'Unnamed: 69', 'Unnamed: 70', 'Unnamed: 71',\n",
       "       'Unnamed: 72', 'Unnamed: 73', 'Unnamed: 74', 'Unnamed: 75',\n",
       "       'Unnamed: 76', 'Unnamed: 77', 'Unnamed: 78', 'Unnamed: 79',\n",
       "       'Unnamed: 80', 'Unnamed: 81', 'Unnamed: 82', 'Unnamed: 83',\n",
       "       'Unnamed: 84', 'Unnamed: 85', 'Unnamed: 86', 'Unnamed: 87',\n",
       "       'Unnamed: 88', 'Unnamed: 89', 'Unnamed: 90', 'Unnamed: 91',\n",
       "       'Unnamed: 92', 'Unnamed: 93'],\n",
       "      dtype='object')"
      ]
     },
     "execution_count": 5,
     "metadata": {},
     "output_type": "execute_result"
    }
   ],
   "source": [
    "df.columns"
   ]
  },
  {
   "cell_type": "code",
   "execution_count": 6,
   "metadata": {},
   "outputs": [],
   "source": [
    "df = df[['Date Added', 'Author', 'Title', 'Abstract', 'Year']]"
   ]
  },
  {
   "cell_type": "code",
   "execution_count": 7,
   "metadata": {},
   "outputs": [
    {
     "data": {
      "text/html": [
       "<div>\n",
       "<style scoped>\n",
       "    .dataframe tbody tr th:only-of-type {\n",
       "        vertical-align: middle;\n",
       "    }\n",
       "\n",
       "    .dataframe tbody tr th {\n",
       "        vertical-align: top;\n",
       "    }\n",
       "\n",
       "    .dataframe thead th {\n",
       "        text-align: right;\n",
       "    }\n",
       "</style>\n",
       "<table border=\"1\" class=\"dataframe\">\n",
       "  <thead>\n",
       "    <tr style=\"text-align: right;\">\n",
       "      <th></th>\n",
       "      <th>Date Added</th>\n",
       "      <th>Author</th>\n",
       "      <th>Title</th>\n",
       "      <th>Abstract</th>\n",
       "      <th>Year</th>\n",
       "    </tr>\n",
       "  </thead>\n",
       "  <tbody>\n",
       "    <tr>\n",
       "      <th>0</th>\n",
       "      <td>2020-07-31</td>\n",
       "      <td>Zwerling, A</td>\n",
       "      <td>Understanding spending trends for tuberculosis</td>\n",
       "      <td>Total out-of-pocket spending decreased over th...</td>\n",
       "      <td>2020</td>\n",
       "    </tr>\n",
       "    <tr>\n",
       "      <th>1</th>\n",
       "      <td>2020-07-31</td>\n",
       "      <td>Zucoloto, GM, Pedro; Porto, Patricia</td>\n",
       "      <td>A propriedade industrial pode limitar o combat...</td>\n",
       "      <td>Esta nota técnica apresenta alguns dos pontos ...</td>\n",
       "      <td>2020</td>\n",
       "    </tr>\n",
       "    <tr>\n",
       "      <th>2</th>\n",
       "      <td>2020-07-31</td>\n",
       "      <td>Zimmer, MAZ, Anne K.; Weißer, Christian W.; Vo...</td>\n",
       "      <td>Hypernatremia—A Manifestation of COVID-19: A C...</td>\n",
       "      <td>We report for the first time therapy-resistant...</td>\n",
       "      <td>2020</td>\n",
       "    </tr>\n",
       "    <tr>\n",
       "      <th>3</th>\n",
       "      <td>2020-07-31</td>\n",
       "      <td>Zignale, M</td>\n",
       "      <td>The experienced space between mobility and Cov...</td>\n",
       "      <td>If it is true that lived space represents our ...</td>\n",
       "      <td>2020</td>\n",
       "    </tr>\n",
       "    <tr>\n",
       "      <th>4</th>\n",
       "      <td>2020-07-31</td>\n",
       "      <td>Zhu, XC, Bodong; Avadhanam, Rukmini Manasa; Sh...</td>\n",
       "      <td>Reading and connecting: using social annotatio...</td>\n",
       "      <td>Purpose - The COM-19 pandemic has forced many ...</td>\n",
       "      <td>2020</td>\n",
       "    </tr>\n",
       "  </tbody>\n",
       "</table>\n",
       "</div>"
      ],
      "text/plain": [
       "  Date Added                                             Author  \\\n",
       "0 2020-07-31                                        Zwerling, A   \n",
       "1 2020-07-31               Zucoloto, GM, Pedro; Porto, Patricia   \n",
       "2 2020-07-31  Zimmer, MAZ, Anne K.; Weißer, Christian W.; Vo...   \n",
       "3 2020-07-31                                         Zignale, M   \n",
       "4 2020-07-31  Zhu, XC, Bodong; Avadhanam, Rukmini Manasa; Sh...   \n",
       "\n",
       "                                               Title  \\\n",
       "0     Understanding spending trends for tuberculosis   \n",
       "1  A propriedade industrial pode limitar o combat...   \n",
       "2  Hypernatremia—A Manifestation of COVID-19: A C...   \n",
       "3  The experienced space between mobility and Cov...   \n",
       "4  Reading and connecting: using social annotatio...   \n",
       "\n",
       "                                            Abstract  Year  \n",
       "0  Total out-of-pocket spending decreased over th...  2020  \n",
       "1  Esta nota técnica apresenta alguns dos pontos ...  2020  \n",
       "2  We report for the first time therapy-resistant...  2020  \n",
       "3  If it is true that lived space represents our ...  2020  \n",
       "4  Purpose - The COM-19 pandemic has forced many ...  2020  "
      ]
     },
     "execution_count": 7,
     "metadata": {},
     "output_type": "execute_result"
    }
   ],
   "source": [
    "df.head()"
   ]
  },
  {
   "cell_type": "code",
   "execution_count": 8,
   "metadata": {},
   "outputs": [
    {
     "data": {
      "text/plain": [
       "\"Total out-of-pocket spending decreased over the same period; however, although the authors captured direct out-of-pocket spending on medical expenses, they did not include non-medical costs including loss of income, transport, and indirect economic costs due to tuberculosis (many of which are now being collected through WHO patient cost surveys) in their analysis. The authors' findings show that three countries with strong private sectors—Democratic Republic of the Congo, Nigeria, and Pakistan—have out-of-pocket medical expenses as the primary source of tuberculosis spending. [...]trends over time and across countries can be used to monitor fluctuations in total tuberculosis spending and assess needs across regions.\""
      ]
     },
     "execution_count": 8,
     "metadata": {},
     "output_type": "execute_result"
    }
   ],
   "source": [
    "df.iloc[0]['Abstract']"
   ]
  },
  {
   "cell_type": "markdown",
   "metadata": {},
   "source": [
    "# Part 1"
   ]
  },
  {
   "cell_type": "markdown",
   "metadata": {},
   "source": [
    "## Test Regex"
   ]
  },
  {
   "cell_type": "code",
   "execution_count": 9,
   "metadata": {},
   "outputs": [
    {
     "data": {
      "text/plain": [
       "['Italy',\n",
       " 'ITALY',\n",
       " 'ITALIAN',\n",
       " 'Italian',\n",
       " 'italy',\n",
       " 'italian',\n",
       " 'ItaLian',\n",
       " 'iTalY']"
      ]
     },
     "execution_count": 9,
     "metadata": {},
     "output_type": "execute_result"
    }
   ],
   "source": [
    "pattern = r'\\bItaly|Italian\\b'\n",
    "re.findall(pattern, 'Italy ITALY ITALIAN Italian italy italian ItaLian iTalY', re.IGNORECASE)"
   ]
  },
  {
   "cell_type": "code",
   "execution_count": 10,
   "metadata": {},
   "outputs": [],
   "source": [
    "matches_l = []\n",
    "for index, row in df.iterrows():\n",
    "    abstract = row['Abstract']\n",
    "    if isinstance(abstract, str):\n",
    "        matches = re.findall(pattern, abstract, re.IGNORECASE)\n",
    "        match_count = len(matches)\n",
    "        if match_count > 0:\n",
    "            matches_l.append((matches, match_count, abstract))\n",
    "top_matches = sorted(matches_l, key=lambda x: x[1], reverse=True)[:10]"
   ]
  },
  {
   "cell_type": "code",
   "execution_count": 11,
   "metadata": {},
   "outputs": [
    {
     "name": "stdout",
     "output_type": "stream",
     "text": [
      "['Italy', 'Italy', 'Italy', 'Italian', 'Italy', 'Italy', 'Italy', 'Italy', 'Italy', 'Italian', 'Italy', 'Italy']\n",
      "12\n",
      "Italy is currently experiencing an epidemic of COVID-19 which emerged in the Lombardy region . During the interval between February 25-29, 2020, we identified 46 cases of COVID-19 reported in 21 countries in Europe, Africa, North America, and South America which were either in individuals with recent travel from Italy, or who had presumed infection by a traveler from Italy 2. In six cases, in four of the affected countries (Switzerland, France, Austria, Croatia), land travel was a likely route of introduction, or was documented to have been the route of introduction. We used air travel volume between Italian cities and cities in other countries as an index of connectedness, using data available from the International Air Transport Association (IATA) for February 2015 (2.61 million total departing international air passengers from Italy). We used the methods of Fraser et al. to estimate the size of the underlying epidemic in Italy necessary in order for these cases to be observed with a reasonable probability. To estimate the time at risk of COVID-19 exposure for travelers departing Italy, we obtained data from the United Nations World Tourism Organization (UNWTO) for the proportion of international travelers that are non-residents of Italy (63%) and the average length of stay of tourists to Italy (3.4 days), and assumed the Italian epidemic began one month prior to February 29, 2020. We also performed sensitivity analyses in which we included outbound travel to all countries regardless of reported case importations, inflated travel volumes by 35%, to account for the relative increase in flight numbers from 2015-2019, and excluded cases in bordering countries and which were documented to have been introduced by overland travel. When all cases were considered we estimated a true outbreak size of 3971 cases (95% CI 2907-5297), as compared to a reported case count of 1128 on February 29, 2020, suggesting non-identification of 72% (61-79%) of cases. In sensitivity analyses, outbreak sizes varied from 1552 to 4533 cases (implying non-identification of 27-75% of cases). We recently used similar methods to estimate a much larger epidemic size in Iran, with a far greater degree of under-reporting, based on many fewer exported cases. The reason for this difference relates to the relatively high volume of travel from Italy, relative to Iran. In summary, we suggest that the numerous COVID-19 case exportations from Italy in recent days suggest an epidemic that is larger than official case counts suggest, and which is approximately on a par with that currently occurring in South Korea, which reports 3526 cases (and fewer deaths) as of February 29, 2020.Competing Interest StatementThe authors have declared no competing interest.Funding StatementFunded by Canadian Institutes for Health Research COVID-19 Rapid Research Fund.Author DeclarationsAll relevant ethical guidelines have been followed; any necessary IRB and/or ethics committee approvals have been obtained and details of the IRB/oversight body are included in the manuscript.YesAll necessary patient/participant consent has been obtained and the appropriate institutional forms have been archived.YesI understand that all clinical trials and any other prospective interventional studies must be registered with an ICMJE-approved registry, such as ClinicalTrials.gov. I confirm that any such study reported in the manuscript has been registered and the trial registration ID is provided (note: if posting a prospective study registered retrospectively, please provide a statement in the trial ID field explaining why the study was not registered in advance).Yes I have followed all appropriate research reporting guidelines and uploaded the relevant EQUATOR Network research reporting checklist(s) and other pertinent material as supplementary files, if applicable.YesIATA data are proprietary; we are able to provide a table with travel volumes upon request (email david.fisman@utoronto.ca). Other data are publicly available. R code available upon request (email ashleigh.tuite@utoronto.ca).\n",
      "['Italy', 'Italian', 'Italian', 'Italian', 'Italian', 'Italy', 'Italian', 'Italian', 'Italian', 'Italy']\n",
      "10\n",
      "Italy was the first European country to experience sustained local transmission of COVID-19. As of 1st May 2020, the Italian health authorities reported 28,238 deaths nationally. To control the epidemic, the Italian government implemented a suite of non-pharmaceutical interventions (NPIs), including school and university closures, social distancing and full lockdown involving banning of public gatherings and non essential movement. In this report, we model the effect of NPIs on transmission using data on average mobility. We estimate that the average reproduction number (a measure of transmission intensity) is currently below one for all Italian regions, and significantly so for the majority of the regions. Despite the large number of deaths, the proportion of population that has been infected by SARS-CoV-2 (the attack rate) is far from the herd immunity threshold in all Italian regions, with the highest attack rate observed in Lombardy (13.18% [10.66%-16.70%]). Italy is set to relax the currently implemented NPIs from 4th May 2020. Given the control achieved by NPIs, we consider three scenarios for the next 8 weeks: a scenario in which mobility remains the same as during the lockdown, a scenario in which mobility returns to pre-lockdown levels by 20%, and a scenario in which mobility returns to pre-lockdown levels by 40%. The scenarios explored assume that mobility is scaled evenly across all dimensions, that behaviour stays the same as before NPIs were implemented, that no pharmaceutical interventions are introduced, and it does not include transmission reduction from contact tracing, testing and the isolation of confirmed or suspected cases. New interventions, such as enhanced testing and contact tracing are going to be introduced and will likely contribute to reductions in transmission; therefore our estimates should be viewed as pessimistic projections. We find that, in the absence of additional interventions, even a 20% return to pre-lockdown mobility could lead to a resurgence in the number of deaths far greater than experienced in the current wave in several regions. Future increases in the number of deaths will lag behind the increase in transmission intensity and so a second wave will not be immediately apparent from just monitoring of the daily number of deaths. Our results suggest that SARS-CoV-2 transmission as well as mobility should be closely monitored in the next weeks and months. To compensate for the increase in mobility that will occur due to the relaxation of the currently implemented NPIs, adherence to the recommended social distancing measures alongside enhanced community surveillance including swab testing, contact tracing and the early isolation of infections are of paramount importance to reduce the risk of resurgence in transmission.Competing Interest StatementThe authors have declared no competing interest.Funding StatementThis work was supported by Centre funding from the UK Medical Research Council under a concordat with the UK Department for International Development, the NIHR Health Protection Research Unit in Modelling Methodology and Community Jameel.Author DeclarationsAll relevant ethical guidelines have been followed; any necessary IRB and/or ethics committee approvals have been obtained and details of the IRB/oversight body are included in the manuscript.YesAll necessary patient/participant consent has been obtained and the appropriate institutional forms have been archived.YesI understand that all clinical trials and any other prospective interventional studies must be registered with an ICMJE-approved registry, such as ClinicalTrials.gov. I confirm that any such study reported in the manuscript has been registered and the trial registration ID is provided (note: if posting a prospective study registered retrospectively, please provide a statement in the trial ID field explaining why the study was not registered in advance).Yes I have followed all appropriate research reporting guidelines and uploaded the relevant EQUATOR Network research reporting checklist(s) and other pertin nt material as supplementary files, if applicable.YesOur model utilizes daily real-time death data provided by the Italian Civil Protection (publicly available at https://github.com/pcm-dpc/COVID-19) for the 20 Italian regions. For the Trentino Alto-Adige region, we report the results for the provinces of Trento and Bolzano separately, following the format of the death data provided by the Italian Civil Protection. For population counts, we use publicly available age-stratified counts from ISTAT (Popolazione residente comunale per sesso anno di nascita e stato civile, from https://www.istat.it). Mobility data have been obtained from the Google Mobility Report (google.com/covid19/mobility/) which provides data on movement in Italy by regionhttps://github.com/pcm-dpc/COVID-19https://www.istat.it\n",
      "['Italy', 'Italy', 'Italian', 'Italy', 'Italy', 'Italy', 'Italian', 'Italy', 'Italy']\n",
      "9\n",
      "BACKGROUND: The fatality rate of coronavirus disease (COVID-19) in Italy is controversial and is greatly affecting discussion on the impact of containment measures that are straining the world's social and economic fabric, such as instigating large-scale isolation and quarantine, closing borders, imposing limits on public gatherings, and implementing nationwide lockdowns.; OBJECTIVE: The scientific community, citizens, politicians, and mass media are expressing concerns regarding data suggesting that the number of COVID-19-related deaths in Italy is significantly higher than in the rest of the world. Moreover, Italian citizens have misleading perceptions related to the number of swab tests that have actually been performed. Citizens and mass media are denouncing the coverage of COVID-19 swab testing in Italy, claiming that it is not in line with that in other countries worldwide.; METHODS: In this paper, we attempt to clarify the aspects of COVID-19 fatalities and testing in Italy by performing a set of statistical analyses that highlight the actual numbers in Italy and compare them with official worldwide data.; RESULTS: The analysis clearly shows that the Italian COVID-19 fatality and mortality rates are in line with the official world scenario, as are the numbers of COVID-19 tests performed in Italy and in the Lombardy region.; CONCLUSIONS: This up-to-date analysis may elucidate the evolution of the COVID-19 pandemic in Italy.\n",
      "['Italy', 'Italy', 'Italian', 'Italy', 'Italy', 'Italian', 'Italian', 'Italian', 'Italian']\n",
      "9\n",
      "Italy has been one of the countries worst hit by coronavirus disease (COVID-19), with over 185,000 cases and around 80% registered in north of the country [1]. Numbers in the initial phase of the outbreak in Italy seem to suggest a greater severity of the disease, with a higher case fatality rate (CFR) than previously observed in China (7.2% vs 2.3%) [2].The aim of the study was to estimate the excess in total mortality by age and sex during the epidemic in Italian cities.The rapid mortality surveillance system in ItalyGo to section...Since 2004, Italy has had a rapid mortality surveillance system (SiSMG) for real-time monitoring of daily deaths in major Italian cities and allows routine evaluation of the health impact of extreme events and influenza epidemics [3,4]. This surveillance system was a valuable tool for an early evaluation of the direct or indirect impact of COVID-19 on health. It is a standardised surveillance system capable of detecting variations in total mortality in the entire population rather than only on the infected cases, and it does not depend on a specific case definition (i.e. COVID-19-related deaths).Briefly, SiSMG is based on an ad hoc daily flow of mortality data (resident population by age and sex) from local Municipal Registry Offices to the Department of Epidemiology, Lazio Regional Health Authority - ASL Roma 1 (DEPLAZIO) which manages the system on behalf of the Ministry of Health [5,6]. The standardised methodology to evaluate excess mortality typically used in the Italian national surveillance system was considered when estimating the excess related to COVID-19 [3,5-7]. Specifically, the excess was defined as the difference between observed and baseline daily mortality (mean daily value by week and day of the week in the past 5 years). In this report, we show results for a subgroup of 19 cities, representative of almost all Italian regions, with timely updates of data, corresponding to 9 million residents (14% of the Italian population).\n",
      "['Italy', 'Italian', 'Italy', 'Italian', 'Italy', 'Italian', 'Italian', 'Italy', 'Italy']\n",
      "9\n",
      " p Epidemiological figures of the SARS-CoV-2 epidemic in Italy are higher than those observed in China. Our objective was to model the SARS-CoV-2 outbreak progression in Italian regions vs. Lombardy to assess the epidemic’s progression. Our setting was Italy, and especially Lombardy, which is experiencing a heavy burden of SARS-CoV-2 infections. The peak of new daily cases of the epidemic has been reached on the 29th, while was delayed in Central and Southern Italian regions compared to Northern ones. In our models, we estimated the basic reproduction number (R0), which represents the average number of people that can be infected by a person who has already acquired the infection, both by fitting the exponential growth rate of the infection across a 1-month period and also by using day-by-day assessments based on single observations. We used the susceptible–exposed–infected–removed (SEIR) compartment model to predict the spreading of the pandemic in Italy. The two methods provide an agreement of values, although the first method based on exponential fit should provide a better estimation, being computed on the entire time series. Taking into account the growth rate of the infection across a 1-month period, each infected person in Lombardy has involved 4 other people (3.6 based on data of April 23rd) compared to a value of R0 = 2.68, as reported in the Chinese city of Wuhan. According to our model, Piedmont, Veneto, Emilia Romagna, Tuscany and Marche will reach an R0 value of up to 3.5. The R0 was 3.11 for Lazio and 3.14 for the Campania region, where the latter showed the highest value among the Southern Italian regions, followed by Apulia (3.11), Sicily (2.99), Abruzzo (3.0), Calabria (2.84), Basilicata (2.66), and Molise (2.6). The R0 value is decreased in Lombardy and the Northern regions, while it is increased in Central and Southern regions. The expected peak of the SEIR model is set at the end of March, at a national level, with Southern Italian regions reaching the peak in the first days of April. Regarding the strengths and limitations of this study, our model is based on assumptions that might not exactly correspond to the evolution of the epidemic. What we know about the SARS-CoV-2 epidemic is based on Chinese data that seems to be different than those from Italy; Lombardy is experiencing an evolution of the epidemic that seems unique inside Italy and Europe, probably due to demographic and environmental factors. /p \n",
      "['Italian', 'Italian', 'Italy', 'Italian', 'Italian', 'Italy', 'Italian', 'Italian', 'Italy']\n",
      "9\n",
      "The Italian outbreak of COVID-19 cases is a public health emergency and there is a worldwide tremendous interest in the evaluation of the Italian epidemic evolution. Indeed, from February 2020, Italy is facing an explosion of COVID-19 cases. In particular, the Italian observed case fatality rate (CFR) is much higher than the other countries. Recently, it has been hypothesized that the extensive number of intergenerational contacts - typical of Italian culture - could contribute to explain the high number of deaths observed in Italy. However, through an analysis performed for all the Italian regions, here it is shown that the deaths are localized in specific regions and that the CFRs of different Italian regions are overlapping with the rates of European countries. Moreover, through a correlation analyses between CFRs and different social habits, it is shown that no positive correlation is observed between social behaviours and CFRs. In conclusion, this analyses clearly rejects the possibility that social habits and intergenerational contacts can contribute to explain such a profound effect on the number of deaths observed in Italy during COVID-19 outbreak and more effort should be addressed to evaluate the real amount of positive cases. This article is protected by copyright. All rights reserved.\n",
      "['Italy', 'Italian', 'Italian', 'Italian', 'Italian', 'Italian', 'Italy', 'Italian']\n",
      "8\n",
      "Italy was the first Western country to face the COVID-19 pandemic. Here we report the results of a national survey on kidney transplantation activity in February and March 2020, and the results of a three-round Delphi consensus promoted by four scientific societies: the Italian Society of Organ Transplantation, the Italian Society of Nephrology, the Italian Society of Anesthesia and Intensive Care, and the Italian Group on Antimicrobial Stewardship. All 41 Italian transplant centers were invited to express their opinion in the Delphi rounds along with a group of seven experts. The survey revealed that, starting from March 2020, there was a decline in kidney transplantation activity in Italy, especially for living-related transplants. Overall, 60 recipients tested positive for SARS-CoV2 infection, 57 required hospitalization, 17 were admitted to the ICU, and 11 died. The online consensus had high response rates at each round (95.8%, 95.8%, and 89.5%, respectively). Eventually, 27 of 31 proposed statements were approved (87.1%), 12 at the first or second round (38.7%), and 3 at the third (9.7%). Based on the Italian experience, we discuss the reasons for the changes in kidney transplantation activity during the COVID-19 pandemic in Western countries. We also provide working recommendations for the organization and management of kidney transplantation under these conditions.\n",
      "['Italian', 'Italian', 'Italian', 'Italy', 'italian', 'Italy', 'Italy', 'Italy']\n",
      "8\n",
      "Since the spread of Corona Virus Disease 19 (COVID -19), most Italian regions on indication of the Central Government have embarked on a system of either total or partial lock down and have used it as a tool for curbing the spread of COVID-19. This study examines whether lock down can be of help and is it any of the public health policies and can it bring up massive and tremendous change to the health system and general economy to Italian regions that have used it as a way of intervention in the spread of COVID19. The research reviewed literature about word economies with Google as the main search tool; also dealt with to press conferences, editorial reviews from Italian newspapers, Bank of Italy, World Bank, International Monetary Fund and World Health Organization. Interviews were also done through phone calls, questions asked via emails to some of the italian leading epidemiologist, infectious disease specialist in the Italy, carefully reading their scientific works and their citations etc. Also, individual experiences and observations on the COVID-19 pandemic in Italy and measures that policy makers have laid down to mitigate the global health crisis of COVID-19 were also counted. A careful study and analysis of various countries (Germany, Spain, France, Italy) that embarked on lock down either partial or complete is showing plummeting inflation, declining gross domestic product, loss of capital for business groups, loss of jobs especially in the informal sectors, a negative growth due to disruption of the world economy through global value chains, abrupt fall in commodity prices and fiscal revenues and enforcement of travel and social restrictions. The research found that a national lock down is no cure, has never been a cure and is not a cure to any of the pandemics, be it previous or recent either in the history of the Spanish flu, influenza and the pending COVID-19. The research also shows that the 2SQ that is social distancing, self-isolation and quarantine are indispensible tools in this pandemic season and should be enforced to the core to help in the management of COVID-19. In the 2SQ, the 2S stand for social distancing and self-isolation while the Q stands for quarantine.\n",
      "['Italy', 'Italian', 'Italian', 'Italian', 'Italy', 'Italian', 'Italy', 'Italian']\n",
      "8\n",
      "After the initial outbreak in China, the diffusion in Italy of SARS-CoV-2 is exhibiting a clear regional trend with more elevated frequency and severity of cases in Northern areas. Among multiple factors possibly involved in such geographical differences, a role has been hypothesized for atmospheric pollution. We provide additional evidence on the possible influence of air quality, particularly in terms of chronicity of exposure on the spread viral infection in Italian regions. Actual data on Covid-19 outbreak in Italian provinces and corresponding long-term air quality evaluations, were obtained from Italian and European agencies, elaborated and tested for possible interactions. Our elaborations reveal that, beside concentrations, the chronicity of exposure may influence the anomalous variability of SARS-CoV-2 in Italy. Data on distribution of atmospheric pollutants (NO2, O3, PM2.5 and PM10) in Italian regions during the last 4 years, days exceeding regulatory limits, and years of the last decade (2010–2019) in which the limits have been exceeded for at least 35 days, highlight that Northern Italy has been constantly exposed to chronic air pollution. Long-term air-quality data significantly correlated with cases of Covid-19 in up to 71 Italian provinces (updated April 27, 2020) providing further evidence that chronic exposure to atmospheric contamination may represent a favourable context for the spread of the virus. Pro-inflammatory responses and high incidence of respiratory and cardiac affections are well known, while the capability of this coronavirus to bind particulate matters remains to be established. Atmospheric and environmental pollution should be considered as part of an integrated approach for sustainable development, human health protection and prevention of epidemic spreads but in a long-term and chronic perspective, since adoption of mitigation actions during a viral outbreak could be of limited utility.\n",
      "['Italy', 'Italian', 'Italian', 'Italian', 'Italy', 'Italian', 'Italy', 'Italian']\n",
      "8\n",
      "Background: After the initial outbreak in China, the diffusion in Italy of SARS-CoV-2 is exhibiting a clear regional trend with Northern areas being the most affected in terms of both frequency and severity of cases. Among multiple factors possibly involved in such geographical differences, a role has been hypothesized for atmospheric pollution. Objectives: We provide additional evidence on the possible influence of air quality, particularly in terms of chronicity of exposure on the spread viral infection in Italian regions. Methods: Actual data on to COVID-19 outbreak in Italian provinces and corresponding long-term air quality evaluations, were obtained from Italian and European agencies, elaborated and tested for possible interactions. Discussion: Our elaborations reveal that, beside concentrations, the chronicity of exposure may influence the anomalous variability of SARS-CoV-2 in Italy. Data on distribution of atmospheric pollutants (NO2, O3, PM2.5 and PM10) in Italian regions during the last 4 years, days exceeding regulatory limits, and years of the last decade (2010-2019) in which the limits have been exceeded for at least 35 days, confirmed that Northern Italy has been constantly exposed to chronic air pollution. Long-term air-quality data significantly correlated with cases of Covid-19 in up to 71 Italian provinces (updated 6 April) providing further evidence that chronic exposure to atmospheric contamination may represent a favourable context for the spread of the virus. Pro-inflammatory responses and high incidence of respiratory and cardiac affections are well known, while the capability of this coronavirus to bind particulate matters remains to be established. Atmospheric and environmental pollution should be considered as part of an integrated approach for sustainable development, human health protection and prevention of epidemic spreads.Competing Interest StatementThe authors have declared no competing interest.Funding StatementNo external funding was received to elaborate presented dataAuthor DeclarationsAll relevant ethical guidelines have been followed; any necessary IRB and/or ethics committee approvals have been obtained and details of the IRB/oversight body are included in the manuscript.YesAll necessary patient/participant consent has been obtained and the appropriate institutional forms have been archived.YesI understand that all clinical trials and any other prospective interventional studies must be registered with an ICMJE-approved registry, such as ClinicalTrials.gov. I confirm that any such study reported in the manuscript has been registered and the trial registration ID is provided (note: if posting a prospective study registered retrospectively, please provide a statement in the trial ID field explaining why the study was not registered in advance).Yes I have followed all appropriate research reporting guidelines and uploaded the relevant EQUATOR Network research reporting checklist(s) and other pertinent material as supplementary files, if applicable.YesWith the present I certify the availability of all the data used and elaborated in the paper, at the links given below.https://github.com/pcm-dpc/COVID-19https://www.eea.europa.eu/publications/air-quality-in-europe-2019https://www.eea.europa.eu/themes/air/air-quality-and-covid19/monitoring-covid-19-impacts-onhttps://www.legambiente.it/malaria-di-citta/\n"
     ]
    }
   ],
   "source": [
    "for i in top_matches:\n",
    "    print(i[0])\n",
    "    print(i[1])\n",
    "    print(i[2])\n",
    "    "
   ]
  },
  {
   "cell_type": "markdown",
   "metadata": {},
   "source": [
    "# Part 2\n",
    "## Test tokenizer"
   ]
  },
  {
   "cell_type": "code",
   "execution_count": 12,
   "metadata": {},
   "outputs": [
    {
     "name": "stdout",
     "output_type": "stream",
     "text": [
      "['This', 'is', 'a', 'Italy', 'of', 'the', 'ITALY', '.', 'ITALIAN', 'Italian', 'in', 'the', 'realm', '.', 'That', ';', 'right', 'there', 'is', 'italy', '\"', 'italian', '\"', 'ItaLian', 'iTalY', '.']\n"
     ]
    }
   ],
   "source": [
    "from nltk.tokenize import wordpunct_tokenize\n",
    "text = 'This is a Italy of the ITALY. ITALIAN Italian in the realm. That; right there is italy \"italian\" ItaLian iTalY.'\n",
    "tokens = wordpunct_tokenize(text)\n",
    "print(tokens)"
   ]
  },
  {
   "cell_type": "code",
   "execution_count": 13,
   "metadata": {},
   "outputs": [],
   "source": [
    "bigrams = Counter()\n",
    "pattern = re.compile(r'\\b(Italy|Italian)\\b', re.IGNORECASE)\n",
    "for index, row in df.iterrows():\n",
    "    abstract = row['Abstract']\n",
    "    if isinstance(abstract, str):\n",
    "        tokens = wordpunct_tokenize(abstract)\n",
    "        bigrams_list = list(ngrams(tokens, 2))\n",
    "        re_search = [bigram for bigram in bigrams_list if pattern.search(bigram[0])]\n",
    "        bigrams.update(re_search)"
   ]
  },
  {
   "cell_type": "code",
   "execution_count": 14,
   "metadata": {},
   "outputs": [
    {
     "name": "stdout",
     "output_type": "stream",
     "text": [
      "('Italy', ',')\t703\n",
      "('Italy', '.')\t282\n",
      "('Italy', 'and')\t274\n",
      "('Italy', 'is')\t94\n",
      "('Italy', '(')\t79\n",
      "('Italian', 'regions')\t77\n",
      "('Italy', 'has')\t69\n",
      "('Italian', 'Society')\t57\n",
      "('Italy', 'was')\t56\n",
      "('Italy', ')')\t54\n",
      "('Italian', 'population')\t34\n",
      "('Italian', 'government')\t33\n",
      "('Italian', 'National')\t28\n",
      "('Italian', 'Ministry')\t28\n",
      "('Italy', '),')\t27\n",
      "('Italy', 'in')\t26\n",
      "('Italian', 'Government')\t23\n",
      "('Italian', 'COVID')\t19\n",
      "('Italy', 'on')\t18\n",
      "('Italy', 'with')\t18\n"
     ]
    }
   ],
   "source": [
    "common_bigrams = bigrams.most_common(20)\n",
    "for i in common_bigrams:\n",
    "    print(str(i[0])+\"\\t\"+ str(i[1]))"
   ]
  },
  {
   "cell_type": "markdown",
   "metadata": {},
   "source": [
    "# Part 3\n",
    "\n",
    "## Test tokenizer"
   ]
  },
  {
   "cell_type": "code",
   "execution_count": 15,
   "metadata": {},
   "outputs": [
    {
     "name": "stderr",
     "output_type": "stream",
     "text": [
      "[nltk_data] Downloading package stopwords to\n",
      "[nltk_data]     /home/codespace/nltk_data...\n",
      "[nltk_data]   Package stopwords is already up-to-date!\n"
     ]
    },
    {
     "data": {
      "text/plain": [
       "True"
      ]
     },
     "execution_count": 15,
     "metadata": {},
     "output_type": "execute_result"
    }
   ],
   "source": [
    "nltk.download('stopwords')"
   ]
  },
  {
   "cell_type": "code",
   "execution_count": 16,
   "metadata": {},
   "outputs": [],
   "source": [
    "from nltk.corpus import stopwords\n",
    "stop_words = set(stopwords.words('english'))"
   ]
  },
  {
   "cell_type": "code",
   "execution_count": 17,
   "metadata": {},
   "outputs": [
    {
     "data": {
      "text/plain": [
       "['Italy',\n",
       " 'ITALY',\n",
       " 'ITALIAN',\n",
       " 'Italian',\n",
       " 'realm',\n",
       " 'right',\n",
       " 'italy',\n",
       " 'italian',\n",
       " 'ItaLian',\n",
       " 'iTalY']"
      ]
     },
     "execution_count": 17,
     "metadata": {},
     "output_type": "execute_result"
    }
   ],
   "source": [
    "text = 'This is a Italy of the ITALY. ITALIAN Italian in the realm. That; right there is italy \"italian\" ItaLian iTalY.'\n",
    "tokens = wordpunct_tokenize(text)\n",
    "cleaned_tokens = [token for token in tokens if token.isalpha() and token.lower() not in stop_words]\n",
    "cleaned_tokens"
   ]
  },
  {
   "cell_type": "code",
   "execution_count": 18,
   "metadata": {},
   "outputs": [],
   "source": [
    "bigrams = Counter()\n",
    "pattern = re.compile(r'\\b(Italy|Italian)\\b', re.IGNORECASE)\n",
    "for index, row in df.iterrows():\n",
    "    abstract = row['Abstract']\n",
    "    if isinstance(abstract, str):\n",
    "        tokens = wordpunct_tokenize(abstract)\n",
    "        cleaned_tokens = [token for token in tokens if token.isalpha() and token.lower() not in stop_words]\n",
    "        bigrams_list = list(ngrams(cleaned_tokens, 2))\n",
    "        re_search = [bigram for bigram in bigrams_list if pattern.search(bigram[0])]\n",
    "        bigrams.update(re_search)"
   ]
  },
  {
   "cell_type": "code",
   "execution_count": 19,
   "metadata": {},
   "outputs": [
    {
     "data": {
      "text/plain": [
       "[(('Italy', 'Spain'), 187),\n",
       " (('Italian', 'regions'), 77),\n",
       " (('Italy', 'one'), 57),\n",
       " (('Italy', 'Iran'), 57),\n",
       " (('Italian', 'Society'), 57),\n",
       " (('Italy', 'first'), 52),\n",
       " (('Italian', 'population'), 34),\n",
       " (('Italy', 'Germany'), 33),\n",
       " (('Italy', 'France'), 33),\n",
       " (('Italian', 'government'), 33),\n",
       " (('Italy', 'March'), 32),\n",
       " (('Italy', 'China'), 29),\n",
       " (('Italian', 'National'), 28),\n",
       " (('Italian', 'Ministry'), 28),\n",
       " (('Italy', 'South'), 27),\n",
       " (('Italy', 'February'), 26),\n",
       " (('Italy', 'USA'), 24),\n",
       " (('Italian', 'Government'), 23),\n",
       " (('Italy', 'United'), 20),\n",
       " (('Italian', 'COVID'), 19)]"
      ]
     },
     "execution_count": 19,
     "metadata": {},
     "output_type": "execute_result"
    }
   ],
   "source": [
    "common_bigrams = bigrams.most_common(20)\n",
    "common_bigrams"
   ]
  },
  {
   "cell_type": "code",
   "execution_count": null,
   "metadata": {},
   "outputs": [],
   "source": []
  }
 ],
 "metadata": {
  "kernelspec": {
   "display_name": "Python 3",
   "language": "python",
   "name": "python3"
  },
  "language_info": {
   "codemirror_mode": {
    "name": "ipython",
    "version": 3
   },
   "file_extension": ".py",
   "mimetype": "text/x-python",
   "name": "python",
   "nbconvert_exporter": "python",
   "pygments_lexer": "ipython3",
   "version": "3.12.1"
  }
 },
 "nbformat": 4,
 "nbformat_minor": 2
}
